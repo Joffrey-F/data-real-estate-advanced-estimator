{
 "cells": [
  {
   "cell_type": "markdown",
   "metadata": {},
   "source": [
    "# 🚀 Real Estate - advanced estimator"
   ]
  },
  {
   "cell_type": "markdown",
   "metadata": {},
   "source": [
    "❗️ In the previous challenge, we saw that if we have more flats than features  in our dataset ($\\large n$ observations $\\large> p$ features), that's why we can't \"solve\" the equation $\\large X\\theta = Y$. And without a deterministic formula for $\\large \\theta$, we would no longer be able to predict the prices of new flats anymore...!\n",
    "\n",
    "----\n",
    "\n",
    "🎯 In this exercise, we have now access to a bigger dataset consisting of 1000 flats and we want to refine our prediction for the same new flat as before:\n",
    "\n",
    "- `Surface`: 3000 $ft^2$\n",
    "- `Bedrooms`: 5 \n",
    "- `Floors`: 1\n",
    "\n",
    "❌ Instead of solving $\\large X\\theta = Y$ with a matrix $\\large X$ of shape $ (1000,4)$ that is **`non-invertible`**...\n",
    "\n",
    "🚀 ...We will find $\\large {\\theta} = \\begin{bmatrix}\n",
    "     \\theta_0 \\\\\n",
    "     \\theta_1 \\\\\n",
    "    \\theta_2 \\\\\n",
    "     \\theta_3\n",
    "\\end{bmatrix}_{4 \\times 1}$ that minimizes the error $ \\large e = X\\hat{\\theta} - Y $: this approach is called a **`Linear Regression model`**. We will measure this error $e$ using the Euclidian distance $\\large \\left\\|e\\right\\|$ and the **`Mean Squared Error.`**\n",
    "\n",
    "👉 Let's compute $\\large \\hat{\\theta}$ to find an approximate estimation of the new flat's price.\n"
   ]
  },
  {
   "cell_type": "code",
   "execution_count": 1,
   "metadata": {},
   "outputs": [],
   "source": [
    "# Import some \"default\" libraries\n",
    "# You can now use Pandas to manipulate the Dataframe conveniently\n",
    "\n",
    "''' Data manipulation'''\n",
    "import numpy as np\n",
    "import pandas as pd\n",
    "\n",
    "''' Data visualization'''\n",
    "import matplotlib.pyplot as plt\n",
    "import seaborn as sns"
   ]
  },
  {
   "cell_type": "markdown",
   "metadata": {},
   "source": [
    "## (1) Data Exploration"
   ]
  },
  {
   "cell_type": "markdown",
   "metadata": {},
   "source": [
    "We load the dataset **flats.csv** below"
   ]
  },
  {
   "cell_type": "code",
   "execution_count": 2,
   "metadata": {
    "tags": [
     "challengify"
    ]
   },
   "outputs": [
    {
     "data": {
      "text/html": [
       "<div>\n",
       "<style scoped>\n",
       "    .dataframe tbody tr th:only-of-type {\n",
       "        vertical-align: middle;\n",
       "    }\n",
       "\n",
       "    .dataframe tbody tr th {\n",
       "        vertical-align: top;\n",
       "    }\n",
       "\n",
       "    .dataframe thead th {\n",
       "        text-align: right;\n",
       "    }\n",
       "</style>\n",
       "<table border=\"1\" class=\"dataframe\">\n",
       "  <thead>\n",
       "    <tr style=\"text-align: right;\">\n",
       "      <th></th>\n",
       "      <th>price</th>\n",
       "      <th>bedrooms</th>\n",
       "      <th>surface</th>\n",
       "      <th>floors</th>\n",
       "    </tr>\n",
       "  </thead>\n",
       "  <tbody>\n",
       "    <tr>\n",
       "      <th>0</th>\n",
       "      <td>274.0</td>\n",
       "      <td>3</td>\n",
       "      <td>1830</td>\n",
       "      <td>2.0</td>\n",
       "    </tr>\n",
       "    <tr>\n",
       "      <th>1</th>\n",
       "      <td>500.0</td>\n",
       "      <td>4</td>\n",
       "      <td>2120</td>\n",
       "      <td>1.0</td>\n",
       "    </tr>\n",
       "    <tr>\n",
       "      <th>2</th>\n",
       "      <td>320.0</td>\n",
       "      <td>3</td>\n",
       "      <td>1260</td>\n",
       "      <td>1.0</td>\n",
       "    </tr>\n",
       "    <tr>\n",
       "      <th>3</th>\n",
       "      <td>445.5</td>\n",
       "      <td>3</td>\n",
       "      <td>1880</td>\n",
       "      <td>1.0</td>\n",
       "    </tr>\n",
       "    <tr>\n",
       "      <th>4</th>\n",
       "      <td>637.5</td>\n",
       "      <td>3</td>\n",
       "      <td>1680</td>\n",
       "      <td>1.0</td>\n",
       "    </tr>\n",
       "  </tbody>\n",
       "</table>\n",
       "</div>"
      ],
      "text/plain": [
       "   price  bedrooms  surface  floors\n",
       "0  274.0         3     1830     2.0\n",
       "1  500.0         4     2120     1.0\n",
       "2  320.0         3     1260     1.0\n",
       "3  445.5         3     1880     1.0\n",
       "4  637.5         3     1680     1.0"
      ]
     },
     "execution_count": 2,
     "metadata": {},
     "output_type": "execute_result"
    }
   ],
   "source": [
    "flats = pd.read_csv('flats.csv', decimal =',')\n",
    "flats['price'] = flats['price'].astype(float)\n",
    "flats['floors'] = flats['floors'].astype(float)\n",
    "flats.head()"
   ]
  },
  {
   "cell_type": "markdown",
   "metadata": {},
   "source": [
    "👀 Use `scatterplots` to  figure out visually <u><i>which feature gives the most information about prices:</i></u>"
   ]
  },
  {
   "cell_type": "code",
   "execution_count": 3,
   "metadata": {
    "tags": [
     "challengify"
    ]
   },
   "outputs": [
    {
     "data": {
      "text/plain": [
       "<AxesSubplot:xlabel='surface', ylabel='price'>"
      ]
     },
     "execution_count": 3,
     "metadata": {},
     "output_type": "execute_result"
    },
    {
     "data": {
      "image/png": "[encoded data removed]",
      "text/plain": [
       "<Figure size 432x288 with 1 Axes>"
      ]
     },
     "metadata": {
      "needs_background": "light"
     },
     "output_type": "display_data"
    }
   ],
   "source": [
    "sns.scatterplot(data = flats, x = 'surface', y = 'price')"
   ]
  },
  {
   "cell_type": "markdown",
   "metadata": {},
   "source": [
    "👉 It seems that `surface` is a stronger indicator of price than the number of bedrooms or floors. In statistics, we say that `price` is more **correlated** with `surface` than with other features. \n",
    "\n",
    "👉 Let's double-check this by running [`pandas.DataFrame.corr`](https://pandas.pydata.org/pandas-docs/stable/reference/api/pandas.DataFrame.corr.html) below, which computes correlation coefficients between each pair of columns of the DataFrame. \n",
    "\n",
    "<i> <u>Remarkable values:</u></i>\n",
    "* 1 means that the two columns  are perfectly  correlated 📈 \n",
    "* -1 means that the two columns perfectly inversely correlated 📉 \n",
    "* 0 means that the two columns not *linearly* correlated 😐\n",
    "    \n",
    "<details>\n",
    "    <summary><i>Why do we use the correlation coefficient and not the covariance coefficient ?</i></summary>\n",
    "    \n",
    "✅ <u>Similitudes</u>:\n",
    "    \n",
    "* 📈 Positive correlations and positive covariances between two variables X and Y mean the same thing: When X increases, Y increases and vice-versa. When X decreases, Y decreases and vice-versa.\n",
    "    \n",
    "* 📉 Negative correlations and negative covariances between two variables X and Y mean the same thing: When X increases, Y decreases and vice-versa. When X decreases, Y increases and vice-versa\n",
    "    \n",
    "* 🤔 A null correlation and a null covariance between two variables X and Y mean the same thing: \n",
    "    * They are _not linearly correlated_ in a sense that there would exists two real numbers $a$ and $b$  such that $ Y = aX + b$ \n",
    "    * However, they can still have another type of relation such as $Y = X^{2}$ (quadratic relation), $Y = e^{X}$ (exponential relation), $Y = ln(X)$ (logarithmic relation), $Y = sin(\\sqrt{1+X^7})$ (super weird relation), ...\n",
    "    \n",
    "❗️ <u>Main difference</u>:\n",
    "    \n",
    "* 😖 The covariance between two variables X and Y can be infinitely big positively or negatively : $ cov(X,Y) \\in ( - \\infty ; + \\infty ) $\n",
    "    \n",
    "    * _Example_: if $ cov (X,Y) = 10 $ and $ cov (X,Z) = 30 $, can you say that X and Z are \"more correlated\" ? ❌_Hell No !_ \n",
    "    * You cannot compare apples, oranges and bananas. \n",
    "\n",
    "* 🧑🏻‍🏫 How to solve this problem ?\n",
    "    * Consider the correlation instead, often denoted by the Greek Letter $\\rho$ (pronounce `\"rhô\"`)\n",
    "    \n",
    "👉<u>Consequence</u>:\n",
    "  \n",
    "* You can view the correlation as a _standardized covariance_, we simply divide the covariance by both the standard deviation of $X$ and the standard deviation of $Y$    \n",
    "$$ \\large  \\rho(X,Y) = \\frac{cov(X,Y)}{\\sigma_X \\sigma_Y} \\in [0;1]$$\n",
    "    \n",
    "    *  _Let's continue our example_: suppose now that $ \\rho(X,Y) = 0.80 $ and $ \\rho(X,Z) = 0.15 $, would you still want to say that X and Z are more correlated ? No. Actually, X and Y are more correlated than X and Z !\n",
    "</details>"
   ]
  },
  {
   "cell_type": "code",
   "execution_count": 4,
   "metadata": {
    "tags": [
     "challengify"
    ]
   },
   "outputs": [
    {
     "data": {
      "text/html": [
       "<div>\n",
       "<style scoped>\n",
       "    .dataframe tbody tr th:only-of-type {\n",
       "        vertical-align: middle;\n",
       "    }\n",
       "\n",
       "    .dataframe tbody tr th {\n",
       "        vertical-align: top;\n",
       "    }\n",
       "\n",
       "    .dataframe thead th {\n",
       "        text-align: right;\n",
       "    }\n",
       "</style>\n",
       "<table border=\"1\" class=\"dataframe\">\n",
       "  <thead>\n",
       "    <tr style=\"text-align: right;\">\n",
       "      <th></th>\n",
       "      <th>price</th>\n",
       "      <th>bedrooms</th>\n",
       "      <th>surface</th>\n",
       "      <th>floors</th>\n",
       "    </tr>\n",
       "  </thead>\n",
       "  <tbody>\n",
       "    <tr>\n",
       "      <th>price</th>\n",
       "      <td>1.000000</td>\n",
       "      <td>0.239623</td>\n",
       "      <td>0.732790</td>\n",
       "      <td>0.258263</td>\n",
       "    </tr>\n",
       "    <tr>\n",
       "      <th>bedrooms</th>\n",
       "      <td>0.239623</td>\n",
       "      <td>1.000000</td>\n",
       "      <td>0.417170</td>\n",
       "      <td>0.131993</td>\n",
       "    </tr>\n",
       "    <tr>\n",
       "      <th>surface</th>\n",
       "      <td>0.732790</td>\n",
       "      <td>0.417170</td>\n",
       "      <td>1.000000</td>\n",
       "      <td>0.357512</td>\n",
       "    </tr>\n",
       "    <tr>\n",
       "      <th>floors</th>\n",
       "      <td>0.258263</td>\n",
       "      <td>0.131993</td>\n",
       "      <td>0.357512</td>\n",
       "      <td>1.000000</td>\n",
       "    </tr>\n",
       "  </tbody>\n",
       "</table>\n",
       "</div>"
      ],
      "text/plain": [
       "             price  bedrooms   surface    floors\n",
       "price     1.000000  0.239623  0.732790  0.258263\n",
       "bedrooms  0.239623  1.000000  0.417170  0.131993\n",
       "surface   0.732790  0.417170  1.000000  0.357512\n",
       "floors    0.258263  0.131993  0.357512  1.000000"
      ]
     },
     "execution_count": 4,
     "metadata": {},
     "output_type": "execute_result"
    }
   ],
   "source": [
    "flats.corr()"
   ]
  },
  {
   "cell_type": "markdown",
   "metadata": {},
   "source": [
    "🎨 For a quicker glimpse of this matrix, you can use a **heatmap** from [`seaborn.heatmap`](https://seaborn.pydata.org/generated/seaborn.heatmap.html)\n",
    "\n",
    "<details>\n",
    "    <summary><i>Additional tips to display a nicer correlation matrix</i></summary>\n",
    "\n",
    "* **`cmap`**: *Seaborn* being a visualisation library built on top of *Matpotlib*, you can use the argument [*cmap*](https://matplotlib.org/stable/tutorials/colors/colormaps.html) which stands for _color map_ to use \n",
    "\n",
    "* **`annot`** : To read the correlations even faster, you can show the correlation coefficients directly on the colored heatmap\n",
    "   \n",
    "* **`annot_kws`** : You can customize how the correlation coefficients appear\n",
    "</details>"
   ]
  },
  {
   "cell_type": "code",
   "execution_count": 5,
   "metadata": {
    "tags": [
     "challengify"
    ]
   },
   "outputs": [
    {
     "data": {
      "text/plain": [
       "<AxesSubplot:>"
      ]
     },
     "execution_count": 5,
     "metadata": {},
     "output_type": "execute_result"
    },
    {
     "data": {
      "image/png": "[encoded data removed]",
      "text/plain": [
       "<Figure size 432x288 with 2 Axes>"
      ]
     },
     "metadata": {
      "needs_background": "light"
     },
     "output_type": "display_data"
    }
   ],
   "source": [
    "# YOUR CODE HERE\n",
    "sns.heatmap(flats)"
   ]
  },
  {
   "cell_type": "markdown",
   "metadata": {},
   "source": [
    "**🧪 Test your code!**"
   ]
  },
  {
   "cell_type": "code",
   "execution_count": 6,
   "metadata": {
    "scrolled": true
   },
   "outputs": [
    {
     "name": "stdout",
     "output_type": "stream",
     "text": [
      "\u001b[1m============================= test session starts ==============================\u001b[0m\n",
      "platform linux -- Python 3.8.12, pytest-6.2.5, py-1.11.0, pluggy-1.0.0 -- /home/joffrey/.pyenv/versions/lewagon/bin/python3\n",
      "cachedir: .pytest_cache\n",
      "rootdir: /home/joffrey/code/Joffrey-F/data-real-estate-advanced-estimator\n",
      "plugins: anyio-3.4.0\n",
      "\u001b[1mcollecting ... \u001b[0mcollected 2 items\n",
      "\n",
      "tests/test_flats.py::TestFlats::test_columns \u001b[32mPASSED\u001b[0m\u001b[32m                      [ 50%]\u001b[0m\n",
      "tests/test_flats.py::TestFlats::test_shape \u001b[32mPASSED\u001b[0m\u001b[32m                        [100%]\u001b[0m\n",
      "\n",
      "\u001b[32m============================== \u001b[32m\u001b[1m2 passed\u001b[0m\u001b[32m in 0.42s\u001b[0m\u001b[32m ===============================\u001b[0m\n",
      "\n",
      "\n",
      "💯 You can commit your code:\n",
      "\n",
      "\u001b[1;32mgit\u001b[39m add tests/flats.pickle\n",
      "\n",
      "\u001b[32mgit\u001b[39m commit -m \u001b[33m'Completed flats step'\u001b[39m\n",
      "\n",
      "\u001b[32mgit\u001b[39m push origin master\n"
     ]
    }
   ],
   "source": [
    "from nbresult import ChallengeResult\n",
    "\n",
    "result = ChallengeResult('flats',\n",
    "    shape=flats.shape,\n",
    "    columns=flats.columns\n",
    ")\n",
    "result.write()\n",
    "print(result.check())"
   ]
  },
  {
   "cell_type": "code",
   "execution_count": 7,
   "metadata": {},
   "outputs": [
    {
     "name": "stdout",
     "output_type": "stream",
     "text": [
      "On branch master\n",
      "Changes not staged for commit:\n",
      "  (use \"git add <file>...\" to update what will be committed)\n",
      "  (use \"git restore <file>...\" to discard changes in working directory)\n",
      "\t\u001b[31mmodified:   02-real_estate_advanced_estimator.ipynb\u001b[m\n",
      "\n",
      "no changes added to commit (use \"git add\" and/or \"git commit -a\")\n",
      "Everything up-to-date\n"
     ]
    }
   ],
   "source": [
    "!git add tests/flats.pickle\n",
    "\n",
    "!git commit -m 'Completed flats step'\n",
    "\n",
    "!git push origin master"
   ]
  },
  {
   "cell_type": "markdown",
   "metadata": {},
   "source": [
    "## (2) Estimator with 1 feature"
   ]
  },
  {
   "cell_type": "markdown",
   "metadata": {},
   "source": [
    "Let's try to build a statistical estimator of **price**  as a function of  only one feature, the **surface**.\n",
    "\n",
    "🎯 Let's try to fit a **linear regression** between the two variables.\n",
    "\n",
    "Practically speaking, we want to choose the best parameters $\\hat{\\theta}$ = (`slope`, `intercept`) such that the `predicted price = slope * surface + intercept` is as close as possible to the `price` in terms of Mean Squared Errors.\n",
    "\n",
    "📅 During the next weeks, we will discover and study different models (Linear Regression, KNN, Logistic Regression, Neural Networks, etc.). \n",
    "\n",
    "👉 An important part of your job is to choose the right model and optimizing the parameters to make the best predictions."
   ]
  },
  {
   "cell_type": "markdown",
   "metadata": {},
   "source": [
    "### (2.1) Visual approach"
   ]
  },
  {
   "attachments": {
    "image.png": {
     "image/png": "[encoded data removed]"
    }
   },
   "cell_type": "markdown",
   "metadata": {},
   "source": [
    "❓ Implement the function `plot_line(slope, intercept, ax)` \n",
    "* This function plots a line with the `slope` and `intercept` arguments on the `ax` figure. We added the argument ax, so that you can plot the line(s) on your scatterplot.\n",
    "* When you are done with coding the function, play with different values of `(slope, intercept)` until you find a “good linear approximation” of the data. Can you find the best fit ?\n",
    "\n",
    "![image.png](attachment:image.png)"
   ]
  },
  {
   "cell_type": "code",
   "execution_count": 8,
   "metadata": {},
   "outputs": [
    {
     "data": {
      "text/plain": [
       "Text(0.5, 0, 'surface')"
      ]
     },
     "execution_count": 8,
     "metadata": {},
     "output_type": "execute_result"
    },
    {
     "data": {
      "image/png": "[encoded data removed]",
      "text/plain": [
       "<Figure size 432x288 with 1 Axes>"
      ]
     },
     "metadata": {
      "needs_background": "light"
     },
     "output_type": "display_data"
    }
   ],
   "source": [
    "sns.scatterplot(data = flats, x = 'surface', y = 'price')\n",
    "\n",
    "def plot_line(a, b, ax):\n",
    "    x = flats['surface']\n",
    "    line = a*x + b\n",
    "    ax.plot(x, line)\n",
    "\n",
    "plot_line(1/4, -2, plt.subplot())\n",
    "plot_line(1/3, -2, plt.subplot())\n",
    "plot_line(1/5, -20, plt.subplot())\n",
    "plt.xlabel('surface')"
   ]
  },
  {
   "cell_type": "code",
   "execution_count": 9,
   "metadata": {},
   "outputs": [],
   "source": [
    "# TO DO: play with slopes and intercepts to get the best fit\n",
    "#sns.scatterplot(plot_line)\n",
    "\n",
    "#plot_line(5,10,30)\n"
   ]
  },
  {
   "cell_type": "markdown",
   "metadata": {},
   "source": [
    "😅 Not so easy (and not very “scientific”), right?"
   ]
  },
  {
   "cell_type": "markdown",
   "metadata": {},
   "source": [
    "### (2.2) Computational approach"
   ]
  },
  {
   "cell_type": "markdown",
   "metadata": {},
   "source": [
    "🔥 To make sure that our estimator line is the best possible one, we need to compute  the **Mean Squared Error** between the **real prices** and the **predicted prices**!\n",
    "\n",
    "👉 Remember that :\n",
    "\n",
    "* For each appartment, `predicted_price = slope * surface + intercept`\n",
    "* Both the **vector of real prices** and the **vector of predicted prices** are of shape $ (1000,1)$"
   ]
  },
  {
   "cell_type": "markdown",
   "metadata": {},
   "source": [
    "#### (2.2.1) Squared Errors"
   ]
  },
  {
   "cell_type": "markdown",
   "metadata": {},
   "source": [
    "<u><b>Step 1</b></u>\n",
    "\n",
    "❓For each row (_i.e. flat_), we should evaluate the `squared_error = (price - predicted_price)**2` ❓"
   ]
  },
  {
   "cell_type": "code",
   "execution_count": 10,
   "metadata": {},
   "outputs": [
    {
     "data": {
      "text/plain": [
       "array([3.29422500e+04, 7.84000000e+02, 4.90000000e+01, 5.06250000e+02,\n",
       "       4.81802500e+04, 4.86202500e+04, 3.19225000e+03, 6.60490000e+04,\n",
       "       4.83025000e+03, 3.90062500e+04, 4.04010000e+04, 2.09380900e+06,\n",
       "       1.42802500e+04, 4.20250000e+02, 3.31240000e+04, 1.81476000e+05,\n",
       "       1.57502500e+04, 2.82240000e+04, 2.57602500e+04, 2.75560000e+04,\n",
       "       8.46400000e+03, 3.92040000e+04, 5.33610000e+02, 4.50241000e+03,\n",
       "       2.66256000e+05, 2.20900000e+03, 3.13290000e+04, 7.39600000e+03,\n",
       "       3.88090000e+04, 3.44288025e+04, 4.83025000e+03, 1.97402500e+04,\n",
       "       7.56250000e+04, 3.80250000e+02, 2.34090000e+04, 4.97025000e+03,\n",
       "       1.92404641e+02, 6.53058025e+04, 3.02500000e+01, 1.64025000e+03,\n",
       "       4.02336490e+03, 4.32306250e+03, 2.46490000e+04, 3.13113025e+04,\n",
       "       6.52802500e+04, 2.15943025e+04, 3.78302500e+02, 8.06560000e+04,\n",
       "       7.34410000e+04, 1.19793025e+04, 2.10250000e+04, 8.29440000e+04,\n",
       "       3.97530250e+03, 2.57602500e+04, 2.10830400e+06, 1.18680250e+03,\n",
       "       2.30400000e+03, 1.52100000e+03, 1.22850250e+05, 1.90440000e+04,\n",
       "       2.10250000e+02, 2.87302500e+02, 3.42250000e+02, 3.44288025e+04,\n",
       "       2.04490000e+04, 1.14490000e+04, 2.41802500e+04, 1.06090000e+04,\n",
       "       1.45924000e+05, 2.60865562e+05, 1.56025000e+03, 1.78756900e+04,\n",
       "       8.49722500e+04, 7.89610000e+04, 1.31102500e+04, 3.54004225e+04,\n",
       "       1.87690000e+04, 1.46410000e+02, 1.08160000e+04, 2.56000000e+02,\n",
       "       3.62902500e+04, 2.60822500e+04, 7.56900000e+03, 7.56250000e+02,\n",
       "       3.88090000e+04, 1.53664000e+05, 2.46490000e+04, 2.60100000e+03,\n",
       "       3.68640000e+04, 9.03002500e+04, 6.50250000e+02, 2.19040000e+04,\n",
       "       4.76100000e+01, 2.40250000e+02, 3.16417500e+03, 1.32860250e+05,\n",
       "       6.88900000e+03, 1.47622500e+04, 3.10249000e+05, 2.95840000e+04,\n",
       "       8.01025000e+03, 9.40900000e+03, 3.92040000e+04, 3.44102500e+04,\n",
       "       8.32656250e+03, 1.27690000e+04, 2.01640000e+04, 2.18089000e+05,\n",
       "       4.84000000e+02, 7.05600000e+03, 7.29000000e+02, 3.08025000e+01,\n",
       "       2.29522500e+04, 1.76400000e+03, 4.95062500e+04, 9.40900000e+03,\n",
       "       6.88900000e+03, 1.74240000e+04, 3.88090000e+04, 6.40000000e+01,\n",
       "       1.25440000e+04, 5.11225000e+03, 1.33402500e+04, 1.09202500e+04,\n",
       "       1.63840000e+04, 9.40900000e+03, 2.86225000e+03, 2.37169000e+03,\n",
       "       1.34560000e+04, 1.21835903e+05, 7.84000000e+02, 1.48840000e+04,\n",
       "       4.83025000e+01, 5.32900000e+03, 1.41610000e+04, 2.49640000e+04,\n",
       "       1.73056000e+05, 5.55025000e+03, 3.16840000e+04, 1.90440000e+04,\n",
       "       3.24000000e+02, 1.33402500e+04, 1.10250000e+04, 9.90025000e+03,\n",
       "       1.53664000e+05, 1.31102500e+04, 1.19025000e+03, 7.56030250e+03,\n",
       "       1.38384000e+05, 3.42250000e+02, 1.11302500e+04, 2.20900000e+03,\n",
       "       2.45025000e+03, 1.96000000e+02, 6.32025000e+03, 4.55625000e+03,\n",
       "       2.73902500e+04, 1.39240000e+04, 1.04040000e+04, 9.48640000e+04,\n",
       "       1.75980250e+03, 1.12560250e+05, 4.00000000e+00, 6.32025000e+03,\n",
       "       6.60490000e+04, 8.97002500e+04, 1.63840000e+04, 1.36161000e+05,\n",
       "       5.61690000e+04, 6.35040000e+04, 4.62400000e+03, 1.48840000e+04,\n",
       "       1.08680625e+04, 4.49440000e+04, 4.29025000e+03, 1.74724000e+05,\n",
       "       2.86225000e+03, 1.82250000e+02, 3.48100000e+03, 9.54810000e+04,\n",
       "       1.25440000e+04, 2.38702500e+04, 3.54025000e+03, 1.33402500e+04,\n",
       "       2.12521000e+05, 4.53690000e+04, 2.57602500e+04, 1.16640000e+04,\n",
       "       2.30400000e+03, 6.22253025e+04, 2.97025000e+03, 1.57515050e+04,\n",
       "       7.37122500e+04, 5.76000000e+04, 7.14025000e+03, 3.04258249e+02,\n",
       "       4.98436000e+03, 6.50250000e+02, 1.48840000e+04, 4.90000000e+01,\n",
       "       8.64900000e+03, 1.28822500e+06, 2.81430250e+03, 1.70858223e+05,\n",
       "       1.09202500e+04, 5.15290000e+04, 2.02500000e+01, 4.00000000e+02,\n",
       "       1.82250000e+04, 1.98025000e+03, 1.06090000e+04, 1.58443803e+05,\n",
       "       1.18253454e+03, 1.07122500e+04, 1.67702500e+04, 2.50000000e-01,\n",
       "       9.30250000e+02, 3.78302500e+04, 1.29996303e+05, 1.22434225e+04,\n",
       "       1.60000000e+01, 2.40250000e+02, 7.05600000e+03, 2.04633025e+04,\n",
       "       4.30562500e+04, 2.70400000e+03, 3.32929000e+05, 4.29025000e+03,\n",
       "       5.54602500e+04, 1.70433025e+04, 2.95840000e+04, 2.28010000e+04,\n",
       "       1.11302500e+04, 1.76890000e+04, 1.61290000e+04, 2.08802500e+04,\n",
       "       4.42225000e+03, 1.86322500e+04, 1.44000000e+04, 4.60102500e+04,\n",
       "       1.87489000e+05, 1.84416400e+04, 7.53502500e+04, 1.36890000e+04,\n",
       "       8.88040000e+04, 1.25440000e+04, 2.31040000e+04, 5.31302500e+04,\n",
       "       1.21000000e+04, 1.36900000e+03, 1.44400000e+03, 1.22213025e+04,\n",
       "       3.01022500e+04, 1.21000000e+04, 1.25316000e+05, 1.65649000e+05,\n",
       "       7.94112400e+04, 6.70810000e+02, 3.49690000e+04, 8.01025000e+03,\n",
       "       2.70602500e+04, 4.91952400e+04, 3.07470250e+05, 4.75240000e+04,\n",
       "       6.99602500e+04, 5.71536000e+03, 3.92040000e+04, 1.14490000e+04,\n",
       "       3.51649000e+05, 3.66025000e+03, 3.49690000e+04, 8.00890000e+04,\n",
       "       1.80625000e+03, 4.20250000e+02, 2.47905025e+04, 1.67702500e+04,\n",
       "       4.18202500e+04, 7.29000000e+02, 7.18240000e+04, 9.60400000e+03,\n",
       "       1.14276100e+04, 4.08040000e+04, 3.24900000e+03, 2.31040000e+04,\n",
       "       1.56025000e+03, 1.25705702e+05, 6.32025000e+03, 1.23904000e+05,\n",
       "       1.29600000e+03, 8.43902500e+04, 7.72840000e+04, 3.72100000e+03,\n",
       "       3.25802500e+04, 1.44400000e+03, 1.31102500e+04, 3.02500000e+03,\n",
       "       1.23904000e+05, 5.22122500e+04, 7.88767225e+04, 1.55002500e+04,\n",
       "       2.04490000e+04, 2.25000000e+00, 2.92410000e+04, 1.14490000e+04,\n",
       "       5.08502500e+04, 7.39812800e+04, 1.48225000e+03, 1.00489000e+05,\n",
       "       7.63416900e+04, 4.60102500e+04, 4.03225000e+03, 2.65690000e+04,\n",
       "       3.08025000e+03, 4.53690000e+04, 5.55025000e+03, 2.83024000e+05,\n",
       "       2.25000000e+02, 3.62902500e+04, 6.25000000e+00, 1.54134760e+03,\n",
       "       3.36400000e+03, 7.56900000e+03, 2.08802500e+04, 1.05062500e+04,\n",
       "       7.29000000e+02, 1.08160000e+04, 1.77241000e+01, 2.02500000e+01,\n",
       "       1.84900000e+03, 2.15208900e+04, 1.72225000e+03, 1.76400000e+03,\n",
       "       2.52004000e+05, 1.44400000e+03, 8.37225000e+03, 3.51562500e+04,\n",
       "       1.27806250e+03, 5.26702500e+04, 1.10197506e+06, 7.31025000e+03,\n",
       "       4.48900000e+03, 2.50000000e+01, 3.20410000e+04, 6.42419716e+04,\n",
       "       1.33402500e+04, 2.62828944e+04, 3.66025000e+03, 1.81171600e+04,\n",
       "       2.60100000e+03, 6.52802500e+04, 7.36164000e+03, 4.22302500e+04,\n",
       "       4.83025000e+03, 9.02500000e+01, 1.05300250e+05, 6.76000000e+02,\n",
       "       4.97290000e+04, 2.80900000e+03, 3.42225000e+03, 1.71479025e+06,\n",
       "       6.55360000e+04, 1.54842250e+05, 7.34410000e+02, 5.92900000e+03,\n",
       "       3.31240000e+04, 2.57602500e+04, 9.30250000e+02, 6.76000000e+02,\n",
       "       7.48225000e+03, 1.12896000e+05, 1.42802500e+04, 2.20430250e+03,\n",
       "       1.52522500e+04, 1.67690250e+05, 1.76890000e+04, 8.44561000e+03,\n",
       "       3.24900000e+03, 2.08802500e+04, 6.32025000e+03, 2.80900000e+03,\n",
       "       6.32025000e+03, 1.65122500e+04, 8.89249000e+03, 1.03371895e+05,\n",
       "       2.34090000e+04, 1.09892250e+05, 5.85225000e+03, 6.09180250e+03,\n",
       "       2.70400000e+03, 1.06090000e+04, 2.50000000e-01, 4.60102500e+04,\n",
       "       1.00000000e+00, 7.14025000e+03, 1.23974410e+05, 2.95840000e+04,\n",
       "       4.84000000e+02, 1.75980250e+03, 3.09136000e+03, 1.85640625e+04,\n",
       "       1.62409000e+05, 2.50000000e-01, 4.29025000e+03, 8.97002500e+04,\n",
       "       9.90025000e+03, 1.47622500e+02, 9.15062500e+04, 2.22784000e+05,\n",
       "       4.88410000e+04, 1.11890250e+05, 2.65690000e+04, 2.78890000e+04,\n",
       "       3.83376400e+04, 5.70025000e+03, 2.80562500e+04, 4.18202500e+04,\n",
       "       1.08900000e+03, 5.70025000e+03, 3.36400000e+03, 1.66410000e+04,\n",
       "       5.76000000e+02, 9.00000000e+02, 3.62902500e+04, 1.55002500e+04,\n",
       "       6.40000000e+01, 3.84400000e+03, 2.75560000e+04, 9.82822500e+04,\n",
       "       1.04197139e+04, 6.52802500e+04, 1.14277803e+05, 9.30250000e+02,\n",
       "       3.46000921e+04, 5.06250000e+04, 8.46400000e+03, 1.93600000e+03,\n",
       "       2.46490000e+04, 3.02500000e+01, 1.23904000e+05, 4.28490000e+04,\n",
       "       2.80900000e+03, 1.99585562e+05, 4.41000000e+04, 1.71610000e+02,\n",
       "       2.48233133e+03, 1.39129000e+05, 7.45290000e+04, 6.86440000e+04,\n",
       "       8.09402500e+04, 1.67702500e+04, 1.67702500e+04, 1.83602500e+04,\n",
       "       8.10000000e+03, 9.61000000e+04, 4.32640000e+04, 9.40900000e+03,\n",
       "       4.64402500e+04, 5.54602500e+04, 2.49640000e+04, 1.90440000e+04,\n",
       "       1.70302500e+04, 2.73902500e+04, 8.92836010e+03, 6.32025000e+03,\n",
       "       4.20250000e+02, 1.83602500e+04, 9.60400000e+03, 3.31240000e+04,\n",
       "       4.97025000e+03, 4.02002500e+04, 9.00000000e+00, 1.35722500e+04,\n",
       "       5.29000000e+02, 6.57922500e+04, 2.97025000e+03, 3.92238025e+04,\n",
       "       9.42490000e+04, 2.19040000e+04, 2.40250000e+02, 5.32900000e+03,\n",
       "       1.84900000e+05, 1.08933002e+03, 1.84960000e+04, 1.06090000e+04,\n",
       "       8.64900000e+03, 8.46400000e+03, 1.38297600e+04, 4.55822500e+04,\n",
       "       2.89982250e+05, 9.12025000e+03, 6.20822006e+04, 7.39600000e+03,\n",
       "       2.95840000e+04, 1.09230250e+03, 4.97025000e+03, 1.02400000e+03,\n",
       "       4.60102500e+04, 2.05922500e+04, 1.89660250e+05, 3.34890000e+04,\n",
       "       1.40422500e+04, 1.02080250e+05, 2.54402500e+04, 9.70225000e+03,\n",
       "       6.25000000e+02, 4.76100000e+03, 2.04490000e+04, 1.44780250e+05,\n",
       "       1.55630250e+05, 3.72100000e+03, 2.45025000e+03, 6.40000000e+01,\n",
       "       6.40000000e+01, 7.87656250e+03, 2.68960000e+04, 1.94602500e+04,\n",
       "       3.08025000e+03, 6.59344000e+03, 1.31109370e+04, 8.41000000e+04,\n",
       "       9.12025000e+03, 4.00000000e+00, 2.04490000e+04, 5.49902500e+04,\n",
       "       4.84000000e+04, 1.02010000e+04, 2.48062500e+04, 3.15062500e+02,\n",
       "       1.94602500e+04, 3.25983025e+04, 5.55780625e+04, 1.07256250e+05,\n",
       "       1.56250000e+02, 2.86225000e+03, 2.25000000e+02, 3.08002500e+04,\n",
       "       3.08002500e+04, 2.20374025e+06, 2.25000000e+04, 2.94122500e+04,\n",
       "       1.19902500e+04, 1.08900000e+05, 2.02500000e+03, 1.24256250e+03,\n",
       "       2.55025000e+03, 4.86202500e+04, 1.07122500e+04, 6.76000000e+02,\n",
       "       4.20250000e+02, 6.40000000e+01, 2.87302500e+04, 1.72344384e+04,\n",
       "       2.45025000e+03, 3.54025000e+03, 4.55625000e+03, 5.29000000e+02,\n",
       "       3.31240000e+04, 1.86322500e+04, 2.53510084e+04, 8.70250000e+02,\n",
       "       1.48840000e+04, 2.17562500e+04, 3.90625000e+03, 1.45202500e+04,\n",
       "       1.12360000e+04, 1.05625000e+03, 3.72490000e+04, 1.63840000e+04,\n",
       "       3.08025000e+03, 3.44102500e+04, 2.10250000e+02, 2.07360000e+02,\n",
       "       1.14490000e+04, 4.00000000e+00, 2.77222500e+04, 2.41802500e+04,\n",
       "       9.02500000e+01, 1.98025000e+03, 6.47702500e+04, 2.03062500e+04,\n",
       "       2.19040000e+04, 8.17960000e+04, 7.53502500e+04, 4.60102500e+04,\n",
       "       6.36405062e+03, 2.08802500e+04, 1.94602500e+04, 8.93025000e+03,\n",
       "       1.19025000e+03, 5.90490000e+04, 2.69880250e+05, 1.33402500e+04,\n",
       "       5.54602500e+04, 2.89444000e+05, 3.02760000e+04, 3.24900000e+03,\n",
       "       1.94602500e+04, 2.89000000e+02, 4.86202500e+04, 5.56960000e+04,\n",
       "       1.87690000e+04, 6.00250000e+02, 3.53440000e+04, 5.94641477e+03,\n",
       "       3.02500000e+01, 3.04502500e+04, 1.36900000e+03, 2.10681000e+03,\n",
       "       1.56025000e+03, 5.29000000e+04, 8.66761000e+03, 1.59600250e+05,\n",
       "       1.63840000e+04, 2.02500000e-01, 8.09402500e+04, 1.38756250e+05,\n",
       "       1.57502500e+04, 2.30400000e+03, 1.87690000e+04, 5.35922500e+04,\n",
       "       4.83025000e+03, 2.40250000e+02, 4.35600000e+03, 2.30400000e+03,\n",
       "       1.42802500e+04, 1.15260250e+05, 2.11600000e+03, 7.31025000e+03,\n",
       "       1.11302500e+04, 8.83600000e+03, 1.25440000e+04, 3.84160000e+04,\n",
       "       6.88900000e+03, 9.79690000e+04, 4.55822500e+04, 1.15562500e+04,\n",
       "       3.49281000e+03, 1.57502500e+04, 3.80250000e+02, 4.12090000e+04,\n",
       "       4.12090000e+04, 1.69000000e+00, 4.83025000e+03, 8.46400000e+03,\n",
       "       4.84000000e+02, 9.30250000e+02, 1.48840000e+04, 1.33402500e+04,\n",
       "       5.85640000e+04, 6.88900000e+03, 4.81636000e+03, 1.42802500e+04,\n",
       "       1.40250250e+05, 8.64900000e+03, 3.53430250e+05, 3.49690000e+04,\n",
       "       1.64096100e+04, 1.06090000e+04, 1.03684000e+05, 1.21000000e+02,\n",
       "       9.40900000e+03, 2.63250625e+04, 1.10250000e+02, 1.17717610e+05,\n",
       "       1.74240000e+04, 3.96900000e+03, 3.08025000e+01, 5.55025000e+03,\n",
       "       3.98002500e+04, 4.90000000e+03, 8.19025000e+03, 2.90702500e+04,\n",
       "       3.80250000e+04, 9.50625000e+03, 7.34410000e+04, 1.18680250e+05,\n",
       "       2.82240000e+04, 1.54008100e+04, 2.00222500e+04, 9.73440000e+04,\n",
       "       2.91555625e+04, 2.19040000e+04, 1.53760000e+04, 2.11702500e+04,\n",
       "       5.38240000e+04, 1.84960000e+04, 1.21104000e+05, 1.38062500e+04,\n",
       "       3.98002500e+04, 1.04361303e+05, 1.87690000e+04, 1.33402500e+04,\n",
       "       1.10250000e+02, 7.20922500e+04, 1.01002500e+04, 4.48900000e+03,\n",
       "       8.01025000e+03, 4.86202500e+04, 1.57212250e+05, 9.00000000e+02,\n",
       "       5.61690000e+04, 1.35497610e+05, 2.23502500e+04, 7.39600000e+03,\n",
       "       1.96000000e+04, 3.23761000e+03, 1.69000000e+02, 5.92900000e+03,\n",
       "       9.02500000e+01, 4.04814400e+02, 4.49228025e+04, 7.84000000e+02,\n",
       "       2.49640000e+04, 9.95402500e+02, 4.60102500e+04, 3.36400000e+03,\n",
       "       2.70602500e+04, 3.60000000e+01, 1.68220900e+06, 5.04100000e+03,\n",
       "       1.09230250e+05, 5.08502500e+04, 1.87690000e+04, 6.79899194e+03,\n",
       "       1.63840000e+04, 1.94602500e+04, 4.84000000e+02, 2.57556250e+03,\n",
       "       1.57502500e+04, 4.10062500e+04, 4.08040000e+04, 4.12164000e+05,\n",
       "       2.73902500e+04, 1.63840000e+04, 1.57502500e+04, 2.12982250e+05,\n",
       "       1.36530250e+05, 7.86802500e+02, 1.29600000e+03, 8.58490000e+04,\n",
       "       6.88900000e+03, 4.50712900e+04, 1.57502500e+04, 7.22500000e+01,\n",
       "       1.25670250e+05, 1.78084000e+05, 2.02500000e+01, 1.56025000e+03,\n",
       "       1.22102500e+04, 2.50000000e-01, 1.46689000e+05, 1.11408025e+04,\n",
       "       2.31040000e+04, 2.25625000e+03, 8.70250000e+02, 1.02400000e+03,\n",
       "       1.06090000e+04, 2.25000000e+00, 1.76400000e+03, 2.50000000e-01,\n",
       "       9.79690000e+04, 2.11600000e+05, 4.00000000e+02, 8.38102500e+04,\n",
       "       1.44400000e+03, 1.10250000e+02, 3.02500000e+01, 8.82090000e+04,\n",
       "       1.02240063e+03, 1.11302500e+04, 3.11522500e+04, 1.22102500e+04,\n",
       "       4.69225000e+03, 4.81802500e+04, 7.84464490e+03, 6.27502500e+04,\n",
       "       2.12357756e+06, 2.07025000e+03, 2.20900000e+03, 9.95402500e+04,\n",
       "       7.22500000e+01, 5.85225000e+03, 1.90440000e+04, 3.90625000e+03,\n",
       "       3.30625000e+03, 1.09202500e+04, 4.49440000e+04, 1.79560000e+04,\n",
       "       1.61290000e+04, 4.90000000e+01, 4.75240000e+04, 1.24609000e+05,\n",
       "       1.62052900e+04, 9.40900000e+03, 2.07025000e+03, 7.45290000e+04,\n",
       "       1.74240000e+04, 2.87302500e+02, 1.86624000e+05, 1.76890000e+04,\n",
       "       5.38240000e+04, 1.29960000e+04, 2.19040000e+04, 6.65640000e+04,\n",
       "       3.40402500e+04, 7.30170250e+05, 8.77969000e+05, 2.65225000e+03,\n",
       "       4.92618025e+04, 5.61690000e+04, 3.84400000e+03, 4.48230250e+03,\n",
       "       1.87690000e+04, 1.62610562e+05, 1.26380250e+05, 1.10250000e+02,\n",
       "       1.04040000e+04, 1.15562500e+04, 2.41802500e+04, 4.84000000e+02,\n",
       "       9.48640000e+04, 1.75980250e+05, 7.78410000e+04, 3.84400000e+03,\n",
       "       6.84756250e+03, 3.30625000e+03, 5.14337041e+04, 3.54025000e+03,\n",
       "       1.64025000e+03, 1.01002500e+04, 3.56409000e+05, 1.80902500e+04,\n",
       "       2.65690000e+02, 5.49902500e+04, 5.29000000e+02, 1.48225000e+03,\n",
       "       1.21550625e+04, 1.22430010e+05, 2.41647025e+04, 1.02400000e+03,\n",
       "       3.72100000e+03, 5.32900000e+03, 9.92250000e+02, 1.74240000e+04,\n",
       "       1.04107331e+04, 3.24900000e+03, 2.11702500e+04, 1.87489000e+05,\n",
       "       9.82822500e+04, 3.31240000e+04, 4.84000000e+02, 2.16090000e+04,\n",
       "       3.57210000e+04, 7.31025000e+03, 5.66440000e+04, 4.01765822e+05,\n",
       "       1.70302500e+04, 3.13290000e+04, 1.55002500e+04, 2.04490000e+04,\n",
       "       1.10250000e+02, 1.28164000e+05, 7.84000000e+02, 4.97025000e+03,\n",
       "       4.20250000e+02, 9.02500000e+01, 1.33225000e+03, 3.80250000e+02,\n",
       "       7.98062500e+04, 3.59102500e+04, 8.52640000e+04, 9.02500000e+01,\n",
       "       2.29522500e+04, 4.12496100e+04, 7.83225000e+03, 1.12225000e+05,\n",
       "       2.45025000e+03, 1.71810250e+05, 8.58490000e+04, 7.74400000e+03,\n",
       "       2.19040000e+04, 4.97290000e+04, 1.86322500e+04, 2.87302500e+04,\n",
       "       8.42724000e+03, 8.61422500e+02, 5.19840000e+04, 4.43102500e+04,\n",
       "       9.12025000e+01, 1.55421235e+05, 8.37225000e+03, 7.22500000e+03,\n",
       "       2.82240000e+04, 2.01640000e+04, 9.60400000e+03, 1.98025000e+03,\n",
       "       2.30400000e+03, 1.14490000e+04, 9.60400000e+03, 7.48225000e+03,\n",
       "       1.27125625e+04, 2.19040000e+04, 6.47220250e+05, 8.01025000e+03,\n",
       "       9.48640000e+04, 2.72250000e+04, 7.02250000e+02, 1.02720250e+05,\n",
       "       6.00250000e+02, 3.78302500e+04, 3.37270562e+05, 2.07360000e+04,\n",
       "       6.12562500e+04, 7.29000000e+02, 1.68100000e+03, 1.26025000e+03,\n",
       "       1.97402500e+04, 7.83225000e+03, 2.57602500e+04, 1.75457103e+05,\n",
       "       4.84000000e+02, 3.88090000e+04, 3.34890000e+04, 4.18609000e+05,\n",
       "       1.48840000e+04, 7.29000000e+02, 4.99849000e+03, 6.27502500e+04,\n",
       "       5.61690000e+04, 1.83602500e+04, 3.09136000e+03, 1.56250000e+04,\n",
       "       1.22102500e+02, 1.74240000e+04, 1.11302500e+04, 1.03022500e+04,\n",
       "       1.08900000e+03, 3.87506250e+03, 1.70302500e+04, 5.18400000e+03,\n",
       "       6.16901406e+04, 1.04579799e+05, 4.76100000e+03, 2.54402500e+04,\n",
       "       7.84000000e+02, 5.90733025e+04, 2.55530250e+03, 4.43102500e+04,\n",
       "       4.62400000e+03, 1.14244000e+05, 3.04502500e+04, 5.73602500e+04,\n",
       "       3.40402500e+04, 1.22500000e+01, 7.74400000e+03, 2.64710250e+05,\n",
       "       1.57939543e+04, 3.96900000e+03, 7.31025000e+03, 5.52250000e+04,\n",
       "       6.02702500e+04, 5.55770250e+03, 1.10250000e+02, 2.80370250e+05,\n",
       "       1.38384000e+05, 2.51381025e+04, 4.86506250e+03, 4.83025000e+03,\n",
       "       5.29000000e+02, 5.24410000e+04, 5.11225000e+03, 4.43102500e+04,\n",
       "       3.13600000e+03, 5.95360000e+04, 5.97529000e+03, 3.25802500e+04,\n",
       "       3.16217306e+06, 4.97290000e+04, 2.27529000e+05, 5.29000000e+02,\n",
       "       3.24900000e+03, 9.00000000e+00, 4.97736100e+04, 4.25184400e+06,\n",
       "       2.97025000e+03, 3.02500000e+01, 2.40100000e-01, 1.08900000e+03,\n",
       "       4.60102500e+04, 4.90000000e+01, 7.23350250e+03, 5.25625000e+03,\n",
       "       4.05015625e+02, 2.90702500e+04, 3.78302500e+04, 4.75240000e+04,\n",
       "       1.16640000e+04, 8.01025000e+03, 8.83600000e+03, 4.97025000e+03])"
      ]
     },
     "execution_count": 10,
     "metadata": {},
     "output_type": "execute_result"
    }
   ],
   "source": [
    "def squared_errors(slope, intercept, surfaces, prices):\n",
    "    \"\"\"TO DO: return an array containing the squared errors between \n",
    "    all real prices from the dataset and the predicted prices\n",
    "    \"\"\"\n",
    "    predicted_price = []\n",
    "    squared_err = []\n",
    "    for j in range(len(surfaces)):\n",
    "        predicted_price.append(slope * surfaces[j] + intercept)\n",
    "    for i in range(len(prices)):\n",
    "        squared_err.append((prices[i] - predicted_price[i])**2)\n",
    "    return np.array(squared_err)\n",
    "\n",
    "squared_errors(1/4, -2, flats['surface'], flats['price'])"
   ]
  },
  {
   "cell_type": "markdown",
   "metadata": {},
   "source": [
    "💡 A general principle in Data Science / Modelling is that $ \\large error = f(y, \\hat{y})$ where:\n",
    "\n",
    "* $ \\large y$ is the real value\n",
    "* $ \\large \\hat{y} $ the predicted valute\n",
    "* $ \\large f$ is often called a **Loss Function** or a **Cost Function** \n",
    "    * 📆 *Cf.* **`Machine Learning I > Model Tuning`**"
   ]
  },
  {
   "cell_type": "markdown",
   "metadata": {},
   "source": [
    "#### (2.2.2) Mean Squared Errors (MSE)"
   ]
  },
  {
   "cell_type": "markdown",
   "metadata": {},
   "source": [
    "<u><b>Step 2</b></u>\n",
    "\n",
    "❓ Create the `mse` function which should return the mean of the array returned by the `squared_errors` function. ❓"
   ]
  },
  {
   "cell_type": "code",
   "execution_count": 11,
   "metadata": {},
   "outputs": [],
   "source": [
    "def mse(slope, intercept, surfaces, prices):\n",
    "    '''TO DO: Return the mean of the array contained in squared_errors as a float.'''\n",
    "    return np.mean(squared_errors(slope, intercept, surfaces, prices))"
   ]
  },
  {
   "cell_type": "markdown",
   "metadata": {},
   "source": [
    "👉 In section _(2.1) Visual approach_, you visually tried to estimate the \"best line\", which consists in finding the best pair `(slope, intercept)`. \n",
    "\n",
    "❓Using this \"best pair\", compute the MSE of your estimator. ❓"
   ]
  },
  {
   "cell_type": "code",
   "execution_count": 12,
   "metadata": {
    "tags": [
     "challengify"
    ]
   },
   "outputs": [
    {
     "data": {
      "text/plain": [
       "59382.11999940699"
      ]
     },
     "execution_count": 12,
     "metadata": {},
     "output_type": "execute_result"
    }
   ],
   "source": [
    "# YOUR CODE HERE\n",
    "mse(1/4, -2, flats['surface'], flats['price'])"
   ]
  },
  {
   "cell_type": "markdown",
   "metadata": {},
   "source": [
    "### (2.3) Finding the best parameters"
   ]
  },
  {
   "cell_type": "markdown",
   "metadata": {},
   "source": [
    "👉 Keep playing with different values for `slope` and `intercept` and try to get the best fit by hand!  Notice how hard it is to optimize both parameters at the same time.\n",
    "\n",
    "\n",
    "👇 Follow the steps down below to get an idea of one potential approach:"
   ]
  },
  {
   "cell_type": "markdown",
   "metadata": {},
   "source": [
    "#### (2.3.1) Finding the `best slope`"
   ]
  },
  {
   "cell_type": "markdown",
   "metadata": {},
   "source": [
    "<b><i><u> Step 1 :</u></i></b>\n",
    "\n",
    "Start by fixing an  `initial_intercept` with your best estimate, then find a slope which approximately minimizes the function  `mse=f(slope)`"
   ]
  },
  {
   "cell_type": "code",
   "execution_count": 13,
   "metadata": {},
   "outputs": [],
   "source": [
    "# Define an initial_intercept, for instance, we may suppose there is always a small transaction fee even for very small flats?\n",
    "initial_intercept = 995\n"
   ]
  },
  {
   "cell_type": "code",
   "execution_count": 14,
   "metadata": {},
   "outputs": [],
   "source": [
    "# Create a range of 100 slopes which contains what you believe is the optimal slope (hint: np.linspace())\n",
    "slopes = np.linspace(0.1,1,100)"
   ]
  },
  {
   "cell_type": "code",
   "execution_count": 15,
   "metadata": {},
   "outputs": [
    {
     "data": {
      "text/plain": [
       "[<matplotlib.lines.Line2D at 0x7f902f732e50>]"
      ]
     },
     "execution_count": 15,
     "metadata": {},
     "output_type": "execute_result"
    },
    {
     "data": {
      "image/png": "[encoded data removed]",
      "text/plain": [
       "<Figure size 432x288 with 1 Axes>"
      ]
     },
     "metadata": {
      "needs_background": "light"
     },
     "output_type": "display_data"
    }
   ],
   "source": [
    "# Create the list of MSEs for each slope value\n",
    "MSEs = []\n",
    "for i in slopes:\n",
    "    MSEs.append(mse(i, 5, flats['surface'], flats['price']))\n",
    "\n",
    "plt.plot(slopes, MSEs)"
   ]
  },
  {
   "cell_type": "markdown",
   "metadata": {},
   "source": [
    "❓ Plot MSEs vs. slopes. Do you see a minimum ❓\n",
    "\n",
    "🙃 If not, try another range of slopes!"
   ]
  },
  {
   "cell_type": "code",
   "execution_count": 16,
   "metadata": {
    "tags": [
     "challengify"
    ]
   },
   "outputs": [
    {
     "data": {
      "image/png": "[encoded data removed]",
      "text/plain": [
       "<Figure size 432x288 with 1 Axes>"
      ]
     },
     "metadata": {
      "needs_background": "light"
     },
     "output_type": "display_data"
    }
   ],
   "source": [
    "# YOUR CODE HERE\n",
    "MSEs = []\n",
    "for i in slopes:\n",
    "    MSEs.append(mse(i, 5, flats['surface'], flats['price']))\n",
    "\n",
    "plt.plot(slopes, MSEs)\n",
    "plt.grid()"
   ]
  },
  {
   "cell_type": "markdown",
   "metadata": {},
   "source": [
    "❓ Compute the minimum value of MSE for your `initial_intercept`, and the corresponding `slope_best` value ❓\n",
    "<br>\n",
    "<details>\n",
    "    <summary><i>Hint</i></summary>\n",
    "    \n",
    "Here you can use Python's built-in `.min()` function, as well as `List.index()` method\n",
    "    \n",
    "</details>"
   ]
  },
  {
   "cell_type": "code",
   "execution_count": 17,
   "metadata": {
    "tags": [
     "challengify"
    ]
   },
   "outputs": [
    {
     "data": {
      "text/plain": [
       "58852.45320627891"
      ]
     },
     "execution_count": 17,
     "metadata": {},
     "output_type": "execute_result"
    }
   ],
   "source": [
    "min(MSEs)\n",
    "MSEs.index(min(MSEs))\n",
    "slope_best = slopes[MSEs.index(min(MSEs))-1]\n",
    "min(MSEs)"
   ]
  },
  {
   "cell_type": "markdown",
   "metadata": {},
   "source": [
    "#### (2.3.2) Finding the `best intercept`"
   ]
  },
  {
   "cell_type": "markdown",
   "metadata": {},
   "source": [
    "<b><i><u> Step 2 :</u></i></b>\n",
    "\n",
    "🔨 Let's now fix the slope to that `slope_best` value, then re-use the previous approach to find \"the\" `intercept_best`."
   ]
  },
  {
   "cell_type": "code",
   "execution_count": 18,
   "metadata": {},
   "outputs": [
    {
     "data": {
      "text/plain": [
       "array([  0.        ,   0.1001001 ,   0.2002002 ,   0.3003003 ,\n",
       "         0.4004004 ,   0.5005005 ,   0.6006006 ,   0.7007007 ,\n",
       "         0.8008008 ,   0.9009009 ,   1.001001  ,   1.1011011 ,\n",
       "         1.2012012 ,   1.3013013 ,   1.4014014 ,   1.5015015 ,\n",
       "         1.6016016 ,   1.7017017 ,   1.8018018 ,   1.9019019 ,\n",
       "         2.002002  ,   2.1021021 ,   2.2022022 ,   2.3023023 ,\n",
       "         2.4024024 ,   2.5025025 ,   2.6026026 ,   2.7027027 ,\n",
       "         2.8028028 ,   2.9029029 ,   3.003003  ,   3.1031031 ,\n",
       "         3.2032032 ,   3.3033033 ,   3.4034034 ,   3.5035035 ,\n",
       "         3.6036036 ,   3.7037037 ,   3.8038038 ,   3.9039039 ,\n",
       "         4.004004  ,   4.1041041 ,   4.2042042 ,   4.3043043 ,\n",
       "         4.4044044 ,   4.5045045 ,   4.6046046 ,   4.7047047 ,\n",
       "         4.8048048 ,   4.9049049 ,   5.00500501,   5.10510511,\n",
       "         5.20520521,   5.30530531,   5.40540541,   5.50550551,\n",
       "         5.60560561,   5.70570571,   5.80580581,   5.90590591,\n",
       "         6.00600601,   6.10610611,   6.20620621,   6.30630631,\n",
       "         6.40640641,   6.50650651,   6.60660661,   6.70670671,\n",
       "         6.80680681,   6.90690691,   7.00700701,   7.10710711,\n",
       "         7.20720721,   7.30730731,   7.40740741,   7.50750751,\n",
       "         7.60760761,   7.70770771,   7.80780781,   7.90790791,\n",
       "         8.00800801,   8.10810811,   8.20820821,   8.30830831,\n",
       "         8.40840841,   8.50850851,   8.60860861,   8.70870871,\n",
       "         8.80880881,   8.90890891,   9.00900901,   9.10910911,\n",
       "         9.20920921,   9.30930931,   9.40940941,   9.50950951,\n",
       "         9.60960961,   9.70970971,   9.80980981,   9.90990991,\n",
       "        10.01001001,  10.11011011,  10.21021021,  10.31031031,\n",
       "        10.41041041,  10.51051051,  10.61061061,  10.71071071,\n",
       "        10.81081081,  10.91091091,  11.01101101,  11.11111111,\n",
       "        11.21121121,  11.31131131,  11.41141141,  11.51151151,\n",
       "        11.61161161,  11.71171171,  11.81181181,  11.91191191,\n",
       "        12.01201201,  12.11211211,  12.21221221,  12.31231231,\n",
       "        12.41241241,  12.51251251,  12.61261261,  12.71271271,\n",
       "        12.81281281,  12.91291291,  13.01301301,  13.11311311,\n",
       "        13.21321321,  13.31331331,  13.41341341,  13.51351351,\n",
       "        13.61361361,  13.71371371,  13.81381381,  13.91391391,\n",
       "        14.01401401,  14.11411411,  14.21421421,  14.31431431,\n",
       "        14.41441441,  14.51451451,  14.61461461,  14.71471471,\n",
       "        14.81481481,  14.91491491,  15.01501502,  15.11511512,\n",
       "        15.21521522,  15.31531532,  15.41541542,  15.51551552,\n",
       "        15.61561562,  15.71571572,  15.81581582,  15.91591592,\n",
       "        16.01601602,  16.11611612,  16.21621622,  16.31631632,\n",
       "        16.41641642,  16.51651652,  16.61661662,  16.71671672,\n",
       "        16.81681682,  16.91691692,  17.01701702,  17.11711712,\n",
       "        17.21721722,  17.31731732,  17.41741742,  17.51751752,\n",
       "        17.61761762,  17.71771772,  17.81781782,  17.91791792,\n",
       "        18.01801802,  18.11811812,  18.21821822,  18.31831832,\n",
       "        18.41841842,  18.51851852,  18.61861862,  18.71871872,\n",
       "        18.81881882,  18.91891892,  19.01901902,  19.11911912,\n",
       "        19.21921922,  19.31931932,  19.41941942,  19.51951952,\n",
       "        19.61961962,  19.71971972,  19.81981982,  19.91991992,\n",
       "        20.02002002,  20.12012012,  20.22022022,  20.32032032,\n",
       "        20.42042042,  20.52052052,  20.62062062,  20.72072072,\n",
       "        20.82082082,  20.92092092,  21.02102102,  21.12112112,\n",
       "        21.22122122,  21.32132132,  21.42142142,  21.52152152,\n",
       "        21.62162162,  21.72172172,  21.82182182,  21.92192192,\n",
       "        22.02202202,  22.12212212,  22.22222222,  22.32232232,\n",
       "        22.42242242,  22.52252252,  22.62262262,  22.72272272,\n",
       "        22.82282282,  22.92292292,  23.02302302,  23.12312312,\n",
       "        23.22322322,  23.32332332,  23.42342342,  23.52352352,\n",
       "        23.62362362,  23.72372372,  23.82382382,  23.92392392,\n",
       "        24.02402402,  24.12412412,  24.22422422,  24.32432432,\n",
       "        24.42442442,  24.52452452,  24.62462462,  24.72472472,\n",
       "        24.82482482,  24.92492492,  25.02502503,  25.12512513,\n",
       "        25.22522523,  25.32532533,  25.42542543,  25.52552553,\n",
       "        25.62562563,  25.72572573,  25.82582583,  25.92592593,\n",
       "        26.02602603,  26.12612613,  26.22622623,  26.32632633,\n",
       "        26.42642643,  26.52652653,  26.62662663,  26.72672673,\n",
       "        26.82682683,  26.92692693,  27.02702703,  27.12712713,\n",
       "        27.22722723,  27.32732733,  27.42742743,  27.52752753,\n",
       "        27.62762763,  27.72772773,  27.82782783,  27.92792793,\n",
       "        28.02802803,  28.12812813,  28.22822823,  28.32832833,\n",
       "        28.42842843,  28.52852853,  28.62862863,  28.72872873,\n",
       "        28.82882883,  28.92892893,  29.02902903,  29.12912913,\n",
       "        29.22922923,  29.32932933,  29.42942943,  29.52952953,\n",
       "        29.62962963,  29.72972973,  29.82982983,  29.92992993,\n",
       "        30.03003003,  30.13013013,  30.23023023,  30.33033033,\n",
       "        30.43043043,  30.53053053,  30.63063063,  30.73073073,\n",
       "        30.83083083,  30.93093093,  31.03103103,  31.13113113,\n",
       "        31.23123123,  31.33133133,  31.43143143,  31.53153153,\n",
       "        31.63163163,  31.73173173,  31.83183183,  31.93193193,\n",
       "        32.03203203,  32.13213213,  32.23223223,  32.33233233,\n",
       "        32.43243243,  32.53253253,  32.63263263,  32.73273273,\n",
       "        32.83283283,  32.93293293,  33.03303303,  33.13313313,\n",
       "        33.23323323,  33.33333333,  33.43343343,  33.53353353,\n",
       "        33.63363363,  33.73373373,  33.83383383,  33.93393393,\n",
       "        34.03403403,  34.13413413,  34.23423423,  34.33433433,\n",
       "        34.43443443,  34.53453453,  34.63463463,  34.73473473,\n",
       "        34.83483483,  34.93493493,  35.03503504,  35.13513514,\n",
       "        35.23523524,  35.33533534,  35.43543544,  35.53553554,\n",
       "        35.63563564,  35.73573574,  35.83583584,  35.93593594,\n",
       "        36.03603604,  36.13613614,  36.23623624,  36.33633634,\n",
       "        36.43643644,  36.53653654,  36.63663664,  36.73673674,\n",
       "        36.83683684,  36.93693694,  37.03703704,  37.13713714,\n",
       "        37.23723724,  37.33733734,  37.43743744,  37.53753754,\n",
       "        37.63763764,  37.73773774,  37.83783784,  37.93793794,\n",
       "        38.03803804,  38.13813814,  38.23823824,  38.33833834,\n",
       "        38.43843844,  38.53853854,  38.63863864,  38.73873874,\n",
       "        38.83883884,  38.93893894,  39.03903904,  39.13913914,\n",
       "        39.23923924,  39.33933934,  39.43943944,  39.53953954,\n",
       "        39.63963964,  39.73973974,  39.83983984,  39.93993994,\n",
       "        40.04004004,  40.14014014,  40.24024024,  40.34034034,\n",
       "        40.44044044,  40.54054054,  40.64064064,  40.74074074,\n",
       "        40.84084084,  40.94094094,  41.04104104,  41.14114114,\n",
       "        41.24124124,  41.34134134,  41.44144144,  41.54154154,\n",
       "        41.64164164,  41.74174174,  41.84184184,  41.94194194,\n",
       "        42.04204204,  42.14214214,  42.24224224,  42.34234234,\n",
       "        42.44244244,  42.54254254,  42.64264264,  42.74274274,\n",
       "        42.84284284,  42.94294294,  43.04304304,  43.14314314,\n",
       "        43.24324324,  43.34334334,  43.44344344,  43.54354354,\n",
       "        43.64364364,  43.74374374,  43.84384384,  43.94394394,\n",
       "        44.04404404,  44.14414414,  44.24424424,  44.34434434,\n",
       "        44.44444444,  44.54454454,  44.64464464,  44.74474474,\n",
       "        44.84484484,  44.94494494,  45.04504505,  45.14514515,\n",
       "        45.24524525,  45.34534535,  45.44544545,  45.54554555,\n",
       "        45.64564565,  45.74574575,  45.84584585,  45.94594595,\n",
       "        46.04604605,  46.14614615,  46.24624625,  46.34634635,\n",
       "        46.44644645,  46.54654655,  46.64664665,  46.74674675,\n",
       "        46.84684685,  46.94694695,  47.04704705,  47.14714715,\n",
       "        47.24724725,  47.34734735,  47.44744745,  47.54754755,\n",
       "        47.64764765,  47.74774775,  47.84784785,  47.94794795,\n",
       "        48.04804805,  48.14814815,  48.24824825,  48.34834835,\n",
       "        48.44844845,  48.54854855,  48.64864865,  48.74874875,\n",
       "        48.84884885,  48.94894895,  49.04904905,  49.14914915,\n",
       "        49.24924925,  49.34934935,  49.44944945,  49.54954955,\n",
       "        49.64964965,  49.74974975,  49.84984985,  49.94994995,\n",
       "        50.05005005,  50.15015015,  50.25025025,  50.35035035,\n",
       "        50.45045045,  50.55055055,  50.65065065,  50.75075075,\n",
       "        50.85085085,  50.95095095,  51.05105105,  51.15115115,\n",
       "        51.25125125,  51.35135135,  51.45145145,  51.55155155,\n",
       "        51.65165165,  51.75175175,  51.85185185,  51.95195195,\n",
       "        52.05205205,  52.15215215,  52.25225225,  52.35235235,\n",
       "        52.45245245,  52.55255255,  52.65265265,  52.75275275,\n",
       "        52.85285285,  52.95295295,  53.05305305,  53.15315315,\n",
       "        53.25325325,  53.35335335,  53.45345345,  53.55355355,\n",
       "        53.65365365,  53.75375375,  53.85385385,  53.95395395,\n",
       "        54.05405405,  54.15415415,  54.25425425,  54.35435435,\n",
       "        54.45445445,  54.55455455,  54.65465465,  54.75475475,\n",
       "        54.85485485,  54.95495495,  55.05505506,  55.15515516,\n",
       "        55.25525526,  55.35535536,  55.45545546,  55.55555556,\n",
       "        55.65565566,  55.75575576,  55.85585586,  55.95595596,\n",
       "        56.05605606,  56.15615616,  56.25625626,  56.35635636,\n",
       "        56.45645646,  56.55655656,  56.65665666,  56.75675676,\n",
       "        56.85685686,  56.95695696,  57.05705706,  57.15715716,\n",
       "        57.25725726,  57.35735736,  57.45745746,  57.55755756,\n",
       "        57.65765766,  57.75775776,  57.85785786,  57.95795796,\n",
       "        58.05805806,  58.15815816,  58.25825826,  58.35835836,\n",
       "        58.45845846,  58.55855856,  58.65865866,  58.75875876,\n",
       "        58.85885886,  58.95895896,  59.05905906,  59.15915916,\n",
       "        59.25925926,  59.35935936,  59.45945946,  59.55955956,\n",
       "        59.65965966,  59.75975976,  59.85985986,  59.95995996,\n",
       "        60.06006006,  60.16016016,  60.26026026,  60.36036036,\n",
       "        60.46046046,  60.56056056,  60.66066066,  60.76076076,\n",
       "        60.86086086,  60.96096096,  61.06106106,  61.16116116,\n",
       "        61.26126126,  61.36136136,  61.46146146,  61.56156156,\n",
       "        61.66166166,  61.76176176,  61.86186186,  61.96196196,\n",
       "        62.06206206,  62.16216216,  62.26226226,  62.36236236,\n",
       "        62.46246246,  62.56256256,  62.66266266,  62.76276276,\n",
       "        62.86286286,  62.96296296,  63.06306306,  63.16316316,\n",
       "        63.26326326,  63.36336336,  63.46346346,  63.56356356,\n",
       "        63.66366366,  63.76376376,  63.86386386,  63.96396396,\n",
       "        64.06406406,  64.16416416,  64.26426426,  64.36436436,\n",
       "        64.46446446,  64.56456456,  64.66466466,  64.76476476,\n",
       "        64.86486486,  64.96496496,  65.06506507,  65.16516517,\n",
       "        65.26526527,  65.36536537,  65.46546547,  65.56556557,\n",
       "        65.66566567,  65.76576577,  65.86586587,  65.96596597,\n",
       "        66.06606607,  66.16616617,  66.26626627,  66.36636637,\n",
       "        66.46646647,  66.56656657,  66.66666667,  66.76676677,\n",
       "        66.86686687,  66.96696697,  67.06706707,  67.16716717,\n",
       "        67.26726727,  67.36736737,  67.46746747,  67.56756757,\n",
       "        67.66766767,  67.76776777,  67.86786787,  67.96796797,\n",
       "        68.06806807,  68.16816817,  68.26826827,  68.36836837,\n",
       "        68.46846847,  68.56856857,  68.66866867,  68.76876877,\n",
       "        68.86886887,  68.96896897,  69.06906907,  69.16916917,\n",
       "        69.26926927,  69.36936937,  69.46946947,  69.56956957,\n",
       "        69.66966967,  69.76976977,  69.86986987,  69.96996997,\n",
       "        70.07007007,  70.17017017,  70.27027027,  70.37037037,\n",
       "        70.47047047,  70.57057057,  70.67067067,  70.77077077,\n",
       "        70.87087087,  70.97097097,  71.07107107,  71.17117117,\n",
       "        71.27127127,  71.37137137,  71.47147147,  71.57157157,\n",
       "        71.67167167,  71.77177177,  71.87187187,  71.97197197,\n",
       "        72.07207207,  72.17217217,  72.27227227,  72.37237237,\n",
       "        72.47247247,  72.57257257,  72.67267267,  72.77277277,\n",
       "        72.87287287,  72.97297297,  73.07307307,  73.17317317,\n",
       "        73.27327327,  73.37337337,  73.47347347,  73.57357357,\n",
       "        73.67367367,  73.77377377,  73.87387387,  73.97397397,\n",
       "        74.07407407,  74.17417417,  74.27427427,  74.37437437,\n",
       "        74.47447447,  74.57457457,  74.67467467,  74.77477477,\n",
       "        74.87487487,  74.97497497,  75.07507508,  75.17517518,\n",
       "        75.27527528,  75.37537538,  75.47547548,  75.57557558,\n",
       "        75.67567568,  75.77577578,  75.87587588,  75.97597598,\n",
       "        76.07607608,  76.17617618,  76.27627628,  76.37637638,\n",
       "        76.47647648,  76.57657658,  76.67667668,  76.77677678,\n",
       "        76.87687688,  76.97697698,  77.07707708,  77.17717718,\n",
       "        77.27727728,  77.37737738,  77.47747748,  77.57757758,\n",
       "        77.67767768,  77.77777778,  77.87787788,  77.97797798,\n",
       "        78.07807808,  78.17817818,  78.27827828,  78.37837838,\n",
       "        78.47847848,  78.57857858,  78.67867868,  78.77877878,\n",
       "        78.87887888,  78.97897898,  79.07907908,  79.17917918,\n",
       "        79.27927928,  79.37937938,  79.47947948,  79.57957958,\n",
       "        79.67967968,  79.77977978,  79.87987988,  79.97997998,\n",
       "        80.08008008,  80.18018018,  80.28028028,  80.38038038,\n",
       "        80.48048048,  80.58058058,  80.68068068,  80.78078078,\n",
       "        80.88088088,  80.98098098,  81.08108108,  81.18118118,\n",
       "        81.28128128,  81.38138138,  81.48148148,  81.58158158,\n",
       "        81.68168168,  81.78178178,  81.88188188,  81.98198198,\n",
       "        82.08208208,  82.18218218,  82.28228228,  82.38238238,\n",
       "        82.48248248,  82.58258258,  82.68268268,  82.78278278,\n",
       "        82.88288288,  82.98298298,  83.08308308,  83.18318318,\n",
       "        83.28328328,  83.38338338,  83.48348348,  83.58358358,\n",
       "        83.68368368,  83.78378378,  83.88388388,  83.98398398,\n",
       "        84.08408408,  84.18418418,  84.28428428,  84.38438438,\n",
       "        84.48448448,  84.58458458,  84.68468468,  84.78478478,\n",
       "        84.88488488,  84.98498498,  85.08508509,  85.18518519,\n",
       "        85.28528529,  85.38538539,  85.48548549,  85.58558559,\n",
       "        85.68568569,  85.78578579,  85.88588589,  85.98598599,\n",
       "        86.08608609,  86.18618619,  86.28628629,  86.38638639,\n",
       "        86.48648649,  86.58658659,  86.68668669,  86.78678679,\n",
       "        86.88688689,  86.98698699,  87.08708709,  87.18718719,\n",
       "        87.28728729,  87.38738739,  87.48748749,  87.58758759,\n",
       "        87.68768769,  87.78778779,  87.88788789,  87.98798799,\n",
       "        88.08808809,  88.18818819,  88.28828829,  88.38838839,\n",
       "        88.48848849,  88.58858859,  88.68868869,  88.78878879,\n",
       "        88.88888889,  88.98898899,  89.08908909,  89.18918919,\n",
       "        89.28928929,  89.38938939,  89.48948949,  89.58958959,\n",
       "        89.68968969,  89.78978979,  89.88988989,  89.98998999,\n",
       "        90.09009009,  90.19019019,  90.29029029,  90.39039039,\n",
       "        90.49049049,  90.59059059,  90.69069069,  90.79079079,\n",
       "        90.89089089,  90.99099099,  91.09109109,  91.19119119,\n",
       "        91.29129129,  91.39139139,  91.49149149,  91.59159159,\n",
       "        91.69169169,  91.79179179,  91.89189189,  91.99199199,\n",
       "        92.09209209,  92.19219219,  92.29229229,  92.39239239,\n",
       "        92.49249249,  92.59259259,  92.69269269,  92.79279279,\n",
       "        92.89289289,  92.99299299,  93.09309309,  93.19319319,\n",
       "        93.29329329,  93.39339339,  93.49349349,  93.59359359,\n",
       "        93.69369369,  93.79379379,  93.89389389,  93.99399399,\n",
       "        94.09409409,  94.19419419,  94.29429429,  94.39439439,\n",
       "        94.49449449,  94.59459459,  94.69469469,  94.79479479,\n",
       "        94.89489489,  94.99499499,  95.0950951 ,  95.1951952 ,\n",
       "        95.2952953 ,  95.3953954 ,  95.4954955 ,  95.5955956 ,\n",
       "        95.6956957 ,  95.7957958 ,  95.8958959 ,  95.995996  ,\n",
       "        96.0960961 ,  96.1961962 ,  96.2962963 ,  96.3963964 ,\n",
       "        96.4964965 ,  96.5965966 ,  96.6966967 ,  96.7967968 ,\n",
       "        96.8968969 ,  96.996997  ,  97.0970971 ,  97.1971972 ,\n",
       "        97.2972973 ,  97.3973974 ,  97.4974975 ,  97.5975976 ,\n",
       "        97.6976977 ,  97.7977978 ,  97.8978979 ,  97.997998  ,\n",
       "        98.0980981 ,  98.1981982 ,  98.2982983 ,  98.3983984 ,\n",
       "        98.4984985 ,  98.5985986 ,  98.6986987 ,  98.7987988 ,\n",
       "        98.8988989 ,  98.998999  ,  99.0990991 ,  99.1991992 ,\n",
       "        99.2992993 ,  99.3993994 ,  99.4994995 ,  99.5995996 ,\n",
       "        99.6996997 ,  99.7997998 ,  99.8998999 , 100.        ])"
      ]
     },
     "execution_count": 18,
     "metadata": {},
     "output_type": "execute_result"
    }
   ],
   "source": [
    "# Create a range of 100 intercepts which contains what you believe is the optimal intercept\n",
    "intercepts = np.linspace(0,100,1000)\n",
    "intercepts"
   ]
  },
  {
   "cell_type": "code",
   "execution_count": 19,
   "metadata": {},
   "outputs": [],
   "source": [
    "# Create the list of MSEs for each intercept value\n",
    "MSEs1 = []\n",
    "for i in intercepts:\n",
    "    MSEs1.append(mse(slope_best, i, flats[\"surface\"], flats[\"price\"]))"
   ]
  },
  {
   "cell_type": "code",
   "execution_count": 20,
   "metadata": {},
   "outputs": [
    {
     "data": {
      "text/plain": [
       "[<matplotlib.lines.Line2D at 0x7f902f664f10>]"
      ]
     },
     "execution_count": 20,
     "metadata": {},
     "output_type": "execute_result"
    },
    {
     "data": {
      "image/png": "[encoded data removed]",
      "text/plain": [
       "<Figure size 432x288 with 1 Axes>"
      ]
     },
     "metadata": {
      "needs_background": "light"
     },
     "output_type": "display_data"
    }
   ],
   "source": [
    "# Plot MSEs against slopes. Do you see a minimum? If not, try another range of slopes!\n",
    "plt.plot(intercepts, MSEs1)"
   ]
  },
  {
   "cell_type": "markdown",
   "metadata": {},
   "source": [
    "❓ Compute `mse_min`, the minimum value of MSEs when slope is equal to `slope_best` best, and store the corresponding best intercept as `intercept_best` ❓\n"
   ]
  },
  {
   "cell_type": "code",
   "execution_count": 24,
   "metadata": {},
   "outputs": [],
   "source": [
    "mse_min = min(MSEs)\n",
    "intercept_best = intercepts[MSEs1.index(min(MSEs1))-1]"
   ]
  },
  {
   "cell_type": "code",
   "execution_count": 22,
   "metadata": {
    "tags": [
     "challengify"
    ]
   },
   "outputs": [],
   "source": [
    "# YOUR CODE HERE\n",
    "#blabla"
   ]
  },
  {
   "cell_type": "markdown",
   "metadata": {},
   "source": [
    "**🧪 Test your code!**"
   ]
  },
  {
   "cell_type": "code",
   "execution_count": 25,
   "metadata": {
    "scrolled": false
   },
   "outputs": [
    {
     "name": "stdout",
     "output_type": "stream",
     "text": [
      "\u001b[1m============================= test session starts ==============================\u001b[0m\n",
      "platform linux -- Python 3.8.12, pytest-6.2.5, py-1.11.0, pluggy-1.0.0 -- /home/joffrey/.pyenv/versions/lewagon/bin/python3\n",
      "cachedir: .pytest_cache\n",
      "rootdir: /home/joffrey/code/Joffrey-F/data-real-estate-advanced-estimator\n",
      "plugins: anyio-3.4.0\n",
      "\u001b[1mcollecting ... \u001b[0mcollected 3 items\n",
      "\n",
      "tests/test_univariate.py::TestUnivariate::test_best_intercept \u001b[32mPASSED\u001b[0m\u001b[32m     [ 33%]\u001b[0m\n",
      "tests/test_univariate.py::TestUnivariate::test_best_slope \u001b[32mPASSED\u001b[0m\u001b[32m         [ 66%]\u001b[0m\n",
      "tests/test_univariate.py::TestUnivariate::test_mse \u001b[32mPASSED\u001b[0m\u001b[32m                [100%]\u001b[0m\n",
      "\n",
      "\u001b[32m============================== \u001b[32m\u001b[1m3 passed\u001b[0m\u001b[32m in 0.15s\u001b[0m\u001b[32m ===============================\u001b[0m\n",
      "\n",
      "\n",
      "💯 You can commit your code:\n",
      "\n",
      "\u001b[1;32mgit\u001b[39m add tests/univariate.pickle\n",
      "\n",
      "\u001b[32mgit\u001b[39m commit -m \u001b[33m'Completed univariate step'\u001b[39m\n",
      "\n",
      "\u001b[32mgit\u001b[39m push origin master\n"
     ]
    }
   ],
   "source": [
    "from nbresult import ChallengeResult\n",
    "\n",
    "result = ChallengeResult('univariate',\n",
    "    mse_min=mse_min,                \n",
    "    slope_best=slope_best,\n",
    "    intercept_best=intercept_best\n",
    ")\n",
    "result.write()\n",
    "print(result.check())"
   ]
  },
  {
   "cell_type": "code",
   "execution_count": 26,
   "metadata": {
    "scrolled": true
   },
   "outputs": [
    {
     "name": "stdout",
     "output_type": "stream",
     "text": [
      "On branch master\r\n",
      "Changes not staged for commit:\r\n",
      "  (use \"git add <file>...\" to update what will be committed)\r\n",
      "  (use \"git restore <file>...\" to discard changes in working directory)\r\n",
      "\t\u001b[31mmodified:   02-real_estate_advanced_estimator.ipynb\u001b[m\r\n",
      "\r\n",
      "no changes added to commit (use \"git add\" and/or \"git commit -a\")\r\n"
     ]
    }
   ],
   "source": [
    "!git status"
   ]
  },
  {
   "cell_type": "code",
   "execution_count": null,
   "metadata": {},
   "outputs": [],
   "source": [
    "# !make"
   ]
  },
  {
   "cell_type": "code",
   "execution_count": 28,
   "metadata": {},
   "outputs": [
    {
     "name": "stdout",
     "output_type": "stream",
     "text": [
      "[master 984ae51] Completed univariate step4\n",
      " 1 file changed, 34 insertions(+), 157 deletions(-)\n",
      "Enumerating objects: 5, done.\n",
      "Counting objects: 100% (5/5), done.\n",
      "Delta compression using up to 8 threads\n",
      "Compressing objects: 100% (3/3), done.\n",
      "Writing objects: 100% (3/3), 917 bytes | 183.00 KiB/s, done.\n",
      "Total 3 (delta 2), reused 0 (delta 0)\n",
      "remote: Resolving deltas: 100% (2/2), completed with 2 local objects.\u001b[K\n",
      "To github.com:Joffrey-F/data-real-estate-advanced-estimator.git\n",
      "   d0353d8..984ae51  master -> master\n"
     ]
    }
   ],
   "source": [
    "!git add 02-real_estate_advanced_estimator.ipynb\n",
    "\n",
    "!git commit -m 'Completed univariate step4'\n",
    "\n",
    "!git push origin master"
   ]
  },
  {
   "cell_type": "markdown",
   "metadata": {},
   "source": [
    "🎉 **Great job**! By adding a non-zero intercept parameter, we have been able to reduce the MSE even more (Feel free to plot the regression line in your scatter plot to  confirm \"visually\" the approximate fit).\n",
    "\n",
    "❓ However, what guarantees that these (`intercept_best`, `slope_best`) parameters are really the best ones? "
   ]
  },
  {
   "cell_type": "markdown",
   "metadata": {},
   "source": [
    "<details>\n",
    "    <summary><i>👀 Explanations</i></summary>\n",
    "    \n",
    "We could maybe find an even better slope value by repeating step ①, this time fixing intercept at `intercept_best`! And then repeat step ② with the new slope to adjust the intercept again...\n",
    "    \n",
    "In order to find the global minimum of a 2-parameter function RMSE = f(slope, intercept), we may have to repeat step ① and ② indefinitely until values converge towards absolute minimums - and with no guarantee of success.\n",
    "    \n",
    "<img src='https://raw.githubusercontent.com/lewagon/data-images/master/decision-science/real-estate-minimizer.png'>\n",
    "    \n",
    "💪 You've just discovered one of the most fundamental aspects of machine learning: **iterative process for finding mimina**.  \n",
    "\n",
    "👉 As you can guess, in the Data Scientist world, algorithms have been developed to automate and optimize such processes. In the next few weeks, you will discover the power of other algorithms such as **Gradient Descent**, and Python libaries such as `Stastmodels` that perform this iterative process for you. \n",
    "\n",
    "</details>\n",
    "\n"
   ]
  },
  {
   "cell_type": "markdown",
   "metadata": {},
   "source": [
    "👉 Run the cells below if you are curious and want to find the real best slope and intercept for this dataset, computed using **Gradient Descent** (📆 covered in **Machine Learning I > Under The Hood**)."
   ]
  },
  {
   "cell_type": "code",
   "execution_count": null,
   "metadata": {},
   "outputs": [],
   "source": [
    "# Try this out (Seaborn visual solution)\n",
    "sns.regplot(data=flats, x='surface', y='price')"
   ]
  },
  {
   "cell_type": "code",
   "execution_count": null,
   "metadata": {},
   "outputs": [],
   "source": [
    "# Try this out (statsmodels, exact solution)!\n",
    "import statsmodels.formula.api as smf\n",
    "regression = smf.ols(formula= 'price ~ surface', data=flats).fit()\n",
    "\n",
    "print(\"intercept_best\", regression.params['Intercept'])\n",
    "print(\"slope_best\", regression.params['surface'])\n",
    "print('mse_best: ', np.mean(regression.resid**2))"
   ]
  },
  {
   "cell_type": "markdown",
   "metadata": {},
   "source": [
    "❓ Let's go back to our initial question: What is your new prediction for the 5th flat below? How does it compare with your initial prediction based only on 4 flats? \n",
    "\n",
    "- `surface`: 3000 $ft^2$\n",
    "- `bedrooms`: 5 \n",
    "- `floors`: 1"
   ]
  },
  {
   "cell_type": "code",
   "execution_count": null,
   "metadata": {},
   "outputs": [],
   "source": [
    "# compute predicted price (Remember that the real price is 750,000$)\n",
    "pass  # YOUR CODE HERE"
   ]
  },
  {
   "cell_type": "markdown",
   "metadata": {},
   "source": [
    "☝️ It's better than our initial deterministic estimator based on only 4 flats, but obviously we are missing the information provided by the number of bedrooms and floors in this prediction!"
   ]
  },
  {
   "cell_type": "markdown",
   "metadata": {},
   "source": [
    "## (3) Estimator with _all features_ (surface, bedrooms, floors)?"
   ]
  },
  {
   "cell_type": "markdown",
   "metadata": {},
   "source": [
    "💡 A linear regression with three features (**Multivariate Linear Regression**) works the same way as with one feature, but instead of determining only 2 parameters to minimize RMSE (`intercept` and `slope`), we will need to find 4 parameters: $\\hat{\\theta}$ = (`intercept`, `slope_surface`, `slope_bedrooms`, `slope_floors`). \n",
    "\n",
    "----\n",
    "\n",
    "🗓 There will be a lecture fully dedicated to **Multivariate Linear Regression** in the **Decision Science** module.\n",
    "\n",
    "----\n",
    "\n",
    "🗓 The same **Gradient Descent** iterative method is applicable, and you will code it yourself by hand later during the bootcamp.\n",
    "\n",
    "👉 Meanwhile, feel free to run the cell below to see the final result of this multivariate regression:"
   ]
  },
  {
   "cell_type": "code",
   "execution_count": null,
   "metadata": {},
   "outputs": [],
   "source": [
    "# Find the four regression coefficients by running this cell\n",
    "import statsmodels.formula.api as smf\n",
    "regression = smf.ols(formula= 'price ~ surface + bedrooms + floors', data=flats).fit()\n",
    "regression.params"
   ]
  },
  {
   "cell_type": "markdown",
   "metadata": {},
   "source": [
    "🎉 Now that we have found the best parameters $\\theta = \\begin{bmatrix}\n",
    "     \\theta_0 \\\\\n",
    "     \\theta_1 \\\\\n",
    "    \\theta_2 \\\\\n",
    "     \\theta_3 \\\\\n",
    "\\end{bmatrix}_{4 \\times 1} = \n",
    "\\begin{bmatrix}\n",
    "     \\theta_{intercept} \\\\\n",
    "     \\theta_{surface}\\\\\n",
    "    \\theta_{bedrooms} \\\\\n",
    "     \\theta_{floors}\n",
    "\\end{bmatrix}_{4 \\times 1} = \n",
    "\\begin{bmatrix}\n",
    "    18.154854 \\\\\n",
    "    0.286953 \\\\\n",
    "    -21.623564 \\\\\n",
    "    -3.811868\n",
    "\\end{bmatrix}_{4 \\times 1}\n",
    "$, \n",
    "\n",
    "we can predict the price of the new flat with:\n",
    "* $3000 ft^2$\n",
    "* $5$ bedrooms\n",
    "* located on the $1st$ floor\n",
    "\n",
    "$$ \\hat{y_5} = \\theta_0 + \\theta_1 \\times 3000 + \\theta_2 \\times 5 + \\theta_3 \\times 1 $$"
   ]
  },
  {
   "cell_type": "code",
   "execution_count": null,
   "metadata": {},
   "outputs": [],
   "source": [
    "# Compute the newly predicted price for the 5th flat? Is this prediction better?\n",
    "pass  # YOUR CODE HERE"
   ]
  },
  {
   "cell_type": "markdown",
   "metadata": {},
   "source": [
    "## (4) Concluding remarks on Linear Algebra 🧠"
   ]
  },
  {
   "cell_type": "markdown",
   "metadata": {},
   "source": [
    "This **optimisation problem** can be summarized as follows\n",
    "\n",
    "- We need to find a vector of parameters $\\hat{\\theta} = \\begin{bmatrix}\n",
    "     \\theta_{intercept} \\\\\n",
    "     \\theta_{surface}\\\\\n",
    "    \\theta_{bedrooms} \\\\\n",
    "     \\theta_{floors}\n",
    "\\end{bmatrix}_{4 \\times 1}$ \n",
    "\n",
    "- That minimizes an error $e = \\left\\|X\\hat{\\theta} - Y \\right\\|^2$\n",
    "\n",
    "- For a given matrix of features $X$ [constant, surfaces, floors, bedrooms]  $\\begin{bmatrix}\n",
    "    1 & 620 & 1 & 1 \\\\\n",
    "    1 & 3280 & 4 & 2 \\\\\n",
    "    ... \\\\\n",
    "    1 & 1900 & 2 & 2 \\\\\n",
    "    1 & 1320 & 3 & 3\n",
    "   \\end{bmatrix}_{n \\times 4}\n",
    "$\n",
    "\n",
    "- and a vector of observations $Y = \\begin{bmatrix}\n",
    "           y_{1} \\\\\n",
    "           y_{2} \\\\\n",
    "           \\vdots \\\\\n",
    "           y_{1000}\n",
    "         \\end{bmatrix}$ (prices)\n",
    "\n",
    "Such minimum $\\large \\hat{\\theta}$ is reached when the \"derivatives\" of $e$, that is $ \\large 2 X^T(X\\hat{\\theta}−Y)$ equals zero (👉proof during the Decision Module). \n",
    "    \n",
    "In other words, we need to solve the linear system $\\large (X^T X)\\hat{\\theta}=X^TY$. \n",
    "    \n",
    "This linear has a unique solution provided that no column of X can be expressed as a linear combination of the others: in that case $ \\large (X^TX)^{-1}$ is invertible and the minimum is reached when $\\large \\hat{\\theta} = (X^TX)^{-1} X^T Y$. Notice how X does not need to be squared anymore compared to the first challenge 💪.\n",
    "\n",
    "💥 However, keep in mind that ***inverting matrices is computationally complex***. That is why other methods have been developed to find the minimum of a function, such as ***gradient descent***.\n",
    "    \n",
    "📚 Read more on [Stats.StackExchange](https://stats.stackexchange.com/a/278779) if you are interested!\n",
    "</details>\n"
   ]
  },
  {
   "cell_type": "markdown",
   "metadata": {},
   "source": [
    "🏁 Congratulations! \n",
    "\n",
    "💾 Don't forget to `git add/commit/push` your notebook!"
   ]
  }
 ],
 "metadata": {
  "kernelspec": {
   "display_name": "Python 3 (ipykernel)",
   "language": "python",
   "name": "python3"
  },
  "language_info": {
   "codemirror_mode": {
    "name": "ipython",
    "version": 3
   },
   "file_extension": ".py",
   "mimetype": "text/x-python",
   "name": "python",
   "nbconvert_exporter": "python",
   "pygments_lexer": "ipython3",
   "version": "3.8.12"
  },
  "toc": {
   "base_numbering": 1,
   "nav_menu": {},
   "number_sections": true,
   "sideBar": true,
   "skip_h1_title": false,
   "title_cell": "Table of Contents",
   "title_sidebar": "Contents",
   "toc_cell": false,
   "toc_position": {},
   "toc_section_display": true,
   "toc_window_display": false
  }
 },
 "nbformat": 4,
 "nbformat_minor": 4
}
